{
 "cells": [
  {
   "cell_type": "code",
   "execution_count": 5,
   "metadata": {},
   "outputs": [],
   "source": [
    "# Assigning features and label variables\n",
    "glucoselevel=['normal','normal','high','normal','high','normal','normal','high']\n",
    "diabeteshistory=['no','yes','yes','no','no','yes','no','no']\n",
    "insulinlevel=['normal','normal','high','normal','normal','high','normal','high']\n",
    "age=['young','midage','old','old','old','midage','young','old']\n",
    "dia=['no','no','yes','no','yes','yes','no','yes']"
   ]
  },
  {
   "cell_type": "code",
   "execution_count": 6,
   "metadata": {},
   "outputs": [
    {
     "name": "stdout",
     "output_type": "stream",
     "text": [
      "Concentration of plasma glucose: [1 1 0 1 0 1 1 0]\n",
      "NORMAL:1, HIGH:0\n",
      "Diabetes History: [0 1 1 0 0 1 0 0]\n",
      "NO:0, YES:1\n",
      "Insulin Level: [1 1 0 1 1 0 1 0]\n",
      "NORMAL:1, HIGH:0\n",
      "Age: [2 0 1 1 1 0 2 1]\n",
      "YOUNG:2, MIDDLEAGED:0,OLD:1\n",
      "Diabetic: [0 0 1 0 1 1 0 1]\n",
      "NOT DIABETIC:0, DIABETIC:1\n"
     ]
    }
   ],
   "source": [
    "# Import LabelEncoder\n",
    "from sklearn import preprocessing\n",
    "#creating labelEncoder\n",
    "le = preprocessing.LabelEncoder()\n",
    "# Converting string labels into numbers.\n",
    "glucose_encoded=le.fit_transform(glucoselevel)\n",
    "print (\"Concentration of plasma glucose:\",glucose_encoded)\n",
    "print(\"NORMAL:1, HIGH:0\")\n",
    "# Converting string labels into numbers\n",
    "diabetes_encoded=le.fit_transform(diabeteshistory)\n",
    "print (\"Diabetes History:\",diabetes_encoded)\n",
    "print(\"NO:0, YES:1\")\n",
    "# Converting string labels into numbers\n",
    "insulin_encoded=le.fit_transform(insulinlevel)\n",
    "print (\"Insulin Level:\",insulin_encoded)\n",
    "print(\"NORMAL:1, HIGH:0\")\n",
    "# Converting string labels into numbers\n",
    "age_encoded=le.fit_transform(age)\n",
    "print (\"Age:\",age_encoded)\n",
    "print(\"YOUNG:2, MIDDLEAGED:0,OLD:1\")\n",
    "label=le.fit_transform(dia)\n",
    "print (\"Diabetic:\",label)\n",
    "print (\"NOT DIABETIC:0, DIABETIC:1\")"
   ]
  },
  {
   "cell_type": "code",
   "execution_count": 7,
   "metadata": {},
   "outputs": [],
   "source": [
    "features=zip(glucose_encoded,diabetes_encoded,insulin_encoded,age_encoded)"
   ]
  },
  {
   "cell_type": "code",
   "execution_count": 8,
   "metadata": {},
   "outputs": [],
   "source": [
    "features = list(features)"
   ]
  },
  {
   "cell_type": "code",
   "execution_count": 9,
   "metadata": {},
   "outputs": [
    {
     "name": "stdout",
     "output_type": "stream",
     "text": [
      "[(1, 0, 1, 2), (1, 1, 1, 0), (0, 1, 0, 1), (1, 0, 1, 1), (0, 0, 1, 1), (1, 1, 0, 0), (1, 0, 1, 2), (0, 0, 0, 1)]\n"
     ]
    }
   ],
   "source": [
    "print (features)"
   ]
  },
  {
   "cell_type": "code",
   "execution_count": 10,
   "metadata": {},
   "outputs": [
    {
     "data": {
      "text/plain": [
       "GaussianNB()"
      ]
     },
     "execution_count": 10,
     "metadata": {},
     "output_type": "execute_result"
    }
   ],
   "source": [
    "from sklearn.naive_bayes import GaussianNB\n",
    "model = GaussianNB()\n",
    "model.fit(features,label)"
   ]
  },
  {
   "cell_type": "code",
   "execution_count": 9,
   "metadata": {},
   "outputs": [
    {
     "name": "stdout",
     "output_type": "stream",
     "text": [
      "Predicted Value: [1]\n"
     ]
    }
   ],
   "source": [
    "predicted= model.predict([[0,1,0,1]]) # \n",
    "print (\"Predicted Value:\", predicted)"
   ]
  },
  {
   "cell_type": "code",
   "execution_count": 10,
   "metadata": {},
   "outputs": [
    {
     "name": "stdout",
     "output_type": "stream",
     "text": [
      "Predicted Value: [0]\n"
     ]
    }
   ],
   "source": [
    "predicted= model.predict([[1,0,1,2]]) # \n",
    "print (\"Predicted Value:\", predicted)"
   ]
  },
  {
   "cell_type": "code",
   "execution_count": 11,
   "metadata": {},
   "outputs": [
    {
     "name": "stdout",
     "output_type": "stream",
     "text": [
      "Predicted Value: [1]\n"
     ]
    }
   ],
   "source": [
    "predicted= model.predict([[1,1,0,2]]) # \n",
    "print (\"Predicted Value:\", predicted)"
   ]
  },
  {
   "cell_type": "code",
   "execution_count": 12,
   "metadata": {},
   "outputs": [
    {
     "name": "stdout",
     "output_type": "stream",
     "text": [
      "Patient is diabetic\n"
     ]
    }
   ],
   "source": [
    "if predicted==1:\n",
    "    print ('Patient is Diabetic')"
   ]
  },
  {
   "cell_type": "code",
   "execution_count": 13,
   "metadata": {},
   "outputs": [],
   "source": [
    "if predicted==0:\n",
    "    print (\"Patient is not Diabetic\")"
   ]
  },
  {
   "cell_type": "code",
   "execution_count": 14,
   "metadata": {},
   "outputs": [
    {
     "name": "stdout",
     "output_type": "stream",
     "text": [
      "Patient is Diabetic\n"
     ]
    }
   ],
   "source": [
    "if predicted==1:\n",
    "    print ('Patient is Diabetic')\n",
    "if predicted==0:\n",
    "    print (\"Patient is not Diabetic\")"
   ]
  },
  {
   "cell_type": "code",
   "execution_count": 15,
   "metadata": {},
   "outputs": [
    {
     "name": "stdout",
     "output_type": "stream",
     "text": [
      "Predicted Value: [0]\n"
     ]
    }
   ],
   "source": [
    "predicted= model.predict([[1,0,1,2]]) # \n",
    "print (\"Predicted Value:\", predicted)"
   ]
  },
  {
   "cell_type": "code",
   "execution_count": 16,
   "metadata": {},
   "outputs": [
    {
     "name": "stdout",
     "output_type": "stream",
     "text": [
      "Patient is not Diabetic\n"
     ]
    }
   ],
   "source": [
    "if predicted==1:\n",
    "    print ('Patient is Diabetic')\n",
    "if predicted==0:\n",
    "    print (\"Patient is not Diabetic\")"
   ]
  },
  {
   "cell_type": "code",
   "execution_count": 17,
   "metadata": {},
   "outputs": [
    {
     "name": "stdout",
     "output_type": "stream",
     "text": [
      "Predicted Value: [0]\n"
     ]
    }
   ],
   "source": [
    "predicted= model.predict([[1,1,1,2]]) # \n",
    "print (\"Predicted Value:\", predicted)"
   ]
  },
  {
   "cell_type": "code",
   "execution_count": 11,
   "metadata": {},
   "outputs": [
    {
     "name": "stdout",
     "output_type": "stream",
     "text": [
      "Predicted Value: [0]\n",
      "Patient is not Diabetic\n"
     ]
    }
   ],
   "source": [
    "predicted= model.predict([[1,1,1,2]]) \n",
    "print (\"Predicted Value:\", predicted)\n",
    "if predicted==1:\n",
    "    print ('Patient is Diabetic')\n",
    "if predicted==0:\n",
    "    print (\"Patient is not Diabetic\")"
   ]
  },
  {
   "cell_type": "code",
   "execution_count": 19,
   "metadata": {},
   "outputs": [
    {
     "name": "stdout",
     "output_type": "stream",
     "text": [
      "Predicted Value: [1]\n",
      "Patient is Diabetic\n"
     ]
    }
   ],
   "source": [
    "predicted= model.predict([[1,1,0,1]]) \n",
    "print (\"Predicted Value:\", predicted)\n",
    "if predicted==1:\n",
    "    print ('Patient is Diabetic')\n",
    "if predicted==0:\n",
    "    print (\"Patient is not Diabetic\")"
   ]
  },
  {
   "cell_type": "code",
   "execution_count": 12,
   "metadata": {},
   "outputs": [
    {
     "name": "stdout",
     "output_type": "stream",
     "text": [
      "Predicted Value: [1]\n",
      "Patient is Diabetic\n"
     ]
    }
   ],
   "source": [
    "predicted= model.predict([[0,1,0,1]]) \n",
    "print (\"Predicted Value:\", predicted)\n",
    "if predicted==1:\n",
    "    print ('Patient is Diabetic')\n",
    "if predicted==0:\n",
    "    print (\"Patient is not Diabetic\")"
   ]
  },
  {
   "cell_type": "code",
   "execution_count": null,
   "metadata": {},
   "outputs": [],
   "source": []
  }
 ],
 "metadata": {
  "kernelspec": {
   "display_name": "Python 3",
   "language": "python",
   "name": "python3"
  },
  "language_info": {
   "codemirror_mode": {
    "name": "ipython",
    "version": 3
   },
   "file_extension": ".py",
   "mimetype": "text/x-python",
   "name": "python",
   "nbconvert_exporter": "python",
   "pygments_lexer": "ipython3",
   "version": "3.8.5"
  }
 },
 "nbformat": 4,
 "nbformat_minor": 4
}
